{
 "cells": [
  {
   "cell_type": "code",
   "execution_count": 1,
   "metadata": {},
   "outputs": [
    {
     "name": "stderr",
     "output_type": "stream",
     "text": [
      "I0428 16:49:25.477610 140186253354752 file_utils.py:41] PyTorch version 1.3.1 available.\n"
     ]
    }
   ],
   "source": [
    "import os\n",
    "from pprint import pprint\n",
    "import pickle\n",
    "import argparse\n",
    "import re\n",
    "import numpy as np\n",
    "import pickle\n",
    "from scipy.stats import pearsonr as pr\n",
    "from scipy.stats import spearmanr as sr\n",
    "import copy\n",
    "import pandas as pd\n",
    "import difflib\n",
    "from transformers import *\n",
    "from pprint import pprint\n",
    "import numpy as np\n",
    "import random\n",
    "import math\n",
    "from tqdm import tqdm\n",
    "import torch\n",
    "from apex import amp\n",
    "from torch import optim\n",
    "from typing import Tuple\n",
    "from torch.nn.utils.rnn import pad_sequence\n",
    "from torch import nn\n",
    "from shutil import rmtree\n",
    "import logging\n",
    "random.seed(77)\n",
    "torch.manual_seed(77)\n",
    "np.random.seed(0)\n",
    "torch.backends.cudnn.deterministic = True\n",
    "torch.backends.cudnn.benchmark = False\n",
    "\n",
    "# torch.autograd.set_detect_anomaly(True)"
   ]
  },
  {
   "cell_type": "code",
   "execution_count": null,
   "metadata": {},
   "outputs": [],
   "source": [
    "class ARGS():\n",
    "    def __init__(self):\n",
    "        self.data_home = '/ahc/work3/kosuke-t/data/SRHDA/WMT15_17_DA'\n",
    "        self.exp_name = 'multi-BERT_15'\n",
    "        self.dump_path = '/ahc/work3/kosuke-t/SRHDA/transformers/log/'\n",
    "        self.data_dirs = {'src_train':'/ahc/work3/kosuke-t/data/SRHDA/WMT15_17_DA/train.src', \n",
    "                          'src_valid':'/ahc/work3/kosuke-t/data/SRHDA/WMT15_17_DA/valid.src', \n",
    "                          'src_test':'/ahc/work3/kosuke-t/data/SRHDA/WMT15_17_DA/test.src', \n",
    "                          'ref_train':'/ahc/work3/kosuke-t/data/SRHDA/WMT15_17_DA/train.ref', \n",
    "                          'ref_valid':'/ahc/work3/kosuke-t/data/SRHDA/WMT15_17_DA/valid.ref', \n",
    "                          'ref_test':'/ahc/work3/kosuke-t/data/SRHDA/WMT15_17_DA/test.ref', \n",
    "                          'hyp_train':'/ahc/work3/kosuke-t/data/SRHDA/WMT15_17_DA/train.hyp', \n",
    "                          'hyp_valid':'/ahc/work3/kosuke-t/data/SRHDA/WMT15_17_DA/valid.hyp', \n",
    "                          'hyp_test':'/ahc/work3/kosuke-t/data/SRHDA/WMT15_17_DA/test.hyp', \n",
    "                          'label_train':'/ahc/work3/kosuke-t/data/SRHDA/WMT15_17_DA/train.label', \n",
    "                          'label_valid':'/ahc/work3/kosuke-t/data/SRHDA/WMT15_17_DA/valid.label', \n",
    "                          'label_test':'/ahc/work3/kosuke-t/data/SRHDA/WMT15_17_DA/test.label'\n",
    "                         }\n",
    "    \n",
    "    self.dump_path = os.path.join(self.dump_path, self.exp_name)\n",
    "    if not os.path.isdir(args.dump_path):\n",
    "        os.makedirs(args.dump_path)\n",
    "    \n",
    "    "
   ]
  },
  {
   "cell_type": "code",
   "execution_count": null,
   "metadata": {},
   "outputs": [],
   "source": []
  }
 ],
 "metadata": {
  "kernelspec": {
   "display_name": "Python 3",
   "language": "python",
   "name": "python3"
  },
  "language_info": {
   "codemirror_mode": {
    "name": "ipython",
    "version": 3
   },
   "file_extension": ".py",
   "mimetype": "text/x-python",
   "name": "python",
   "nbconvert_exporter": "python",
   "pygments_lexer": "ipython3",
   "version": "3.6.7"
  }
 },
 "nbformat": 4,
 "nbformat_minor": 4
}
